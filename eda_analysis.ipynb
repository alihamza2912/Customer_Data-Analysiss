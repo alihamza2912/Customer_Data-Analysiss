
# Exploratory Data Analysis
import pandas as pd
import matplotlib.pyplot as plt
import seaborn as sns

df = pd.read_csv("cleaned_customer_data.csv")

# Summary statistics
print(df.describe())

# Correlation heatmap
plt.figure(figsize=(8,6))
sns.heatmap(df.corr(), annot=True, cmap="coolwarm")
plt.title("Correlation Matrix")
plt.show()

# Sales by category
df.groupby('Product_Category')['Purchase_Amount'].sum().plot(kind='bar', title='Total Sales by Category')
plt.ylabel("Revenue")
plt.show()
