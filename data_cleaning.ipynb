
# Data Cleaning with Python
import pandas as pd

# Load dataset
df = pd.read_csv("customer_data.csv")

# Drop duplicates
df.drop_duplicates(inplace=True)

# Fill missing values
df['Age'].fillna(df['Age'].mean(), inplace=True)

# Convert date column
df['Purchase_Date'] = pd.to_datetime(df['Purchase_Date'])

# Save cleaned data
df.to_csv("cleaned_customer_data.csv", index=False)
df.head()
